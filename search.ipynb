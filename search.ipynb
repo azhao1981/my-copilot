{
 "cells": [
  {
   "cell_type": "code",
   "execution_count": 9,
   "metadata": {},
   "outputs": [],
   "source": [
    "import os\n",
    "from dotenv import load_dotenv, find_dotenv\n",
    "\n",
    "load_dotenv(find_dotenv(),override=True)\n",
    "\n",
    "api_key=os.getenv(\"ONEAPI_API_KEY\", \"\")\n",
    "base_url=os.getenv(\"ONEAPI_BASE_URL\", \"\")\n",
    "\n",
    "bing_search_url=os.getenv(\"BING_SEARCH_URL\", \"\")\n",
    "bing_subscription_key=os.getenv(\"BING_SEARCH_API_KEY\", \"\")"
   ]
  },
  {
   "cell_type": "code",
   "execution_count": 8,
   "metadata": {},
   "outputs": [
    {
     "name": "stdout",
     "output_type": "stream",
     "text": [
      "{'snippet': '量子计算是一<b>种遵循量子力学规律调控量子信息单元进行计算的新型计算模式</b>。<b>与</b>经典计算不同，量子计算遵循量子力学规律，它是能突破经典算力瓶颈的新型计算模式。量子计算机，作为执行量子计算任务的设备，以量子比特（qubit）为基本运算单元。', 'title': '<b>量子计算</b>（遵循<b>量子</b>力学规律的<b>计算</b>模式）_百度百科', 'link': 'https://baike.baidu.com/item/%E9%87%8F%E5%AD%90%E8%AE%A1%E7%AE%97/11035661'}\n",
      "{'snippet': '本文介绍了量子计算的基本概念、类型、优势和应用领域，以及全球量子计算产业的发展现状和前景。量子计算是利用量子力学的基本原理来加速解决复杂计算的过程，可以在各个行业提高效率和创新能力，但也面临着技术和市场的挑战。', 'title': '一文看懂<b>量子计算</b>：原理、应用、行业现状-36氪', 'link': 'https://www.36kr.com/p/1723178598401'}\n",
      "{'snippet': '量子计算是利用亚原子粒子的物理学原理来执行并行计算的系统，可以在某些数学运算中更快速有效地模拟离奇的量子现象。本文介绍了量子计算的概念、作用、工作原理和现状，以及 NVIDIA cuQuantum SDK 的应用。', 'title': '科普 | <b>什么是量子计算</b>？ - 知乎', 'link': 'https://zhuanlan.zhihu.com/p/366657266'}\n",
      "{'snippet': '<b>量子计算利用专门技术</b>（包括计算机硬件和利用量子力学的算法）来解决传统计算机或超级计算机无法解决或无法快速解决的复杂问题。 如今，IBM Quantum 为数十万开发人员提供了真正的量子硬件，这是一种科学家在三十年前才开始想象的工具。', 'title': '<b>什么是量子计算</b>？| IBM', 'link': 'https://www.ibm.com/cn-zh/topics/quantum-computing'}\n"
     ]
    }
   ],
   "source": [
    "import json\n",
    "from langchain.utilities import BingSearchAPIWrapper\n",
    "from langchain_community.tools.bing_search import BingSearchResults\n",
    "from pydantic import BaseModel, Field\n",
    "\n",
    "class BingSearchAPI(BaseModel):\n",
    "    bing_search_url: str = Field(default=bing_search_url)\n",
    "    bing_subscription_key: str = Field(default=bing_subscription_key)\n",
    "    k: int = Field(default=3)\n",
    "\n",
    "    def search(self, question: str):\n",
    "        api_wrapper = BingSearchAPIWrapper(\n",
    "            bing_search_url=self.bing_search_url,\n",
    "            bing_subscription_key=self.bing_subscription_key,\n",
    "            k=self.k,\n",
    "        )\n",
    "        tool = BingSearchResults(api_wrapper=api_wrapper)\n",
    "        return tool.invoke(question)\n",
    "\n",
    "question = \"什么是量子计算\"\n",
    "\n",
    "response = BingSearchAPI().search(question)\n",
    "response = json.loads(response.replace(\"'\", '\"'))\n",
    "for item in response:\n",
    "    print(item)"
   ]
  },
  {
   "cell_type": "code",
   "execution_count": 12,
   "metadata": {},
   "outputs": [],
   "source": [
    "from langchain.llms import OpenAI\n",
    "from langchain.prompts import PromptTemplate\n",
    "from typing import Any\n",
    "\n",
    "class CustomSearchAgent(BaseModel):\n",
    "    llm: Any\n",
    "    search_client: Any\n",
    "    question: str = None\n",
    "    query_reformulation_template: str = \"\"\"\n",
    "        作为一个搜索专家，你需要将用户的问题转换为有效的搜索关键词。\n",
    "        \n",
    "        用户问题: {question}\n",
    "        \n",
    "        请生成2-3个最优的搜索查询词组。要求：\n",
    "        1. 提取核心概念和关键实体\n",
    "        2. 移除不必要的词语\n",
    "        3. 考虑同义词和相关术语\n",
    "        4. 确保查询词具有足够的特异性\n",
    "        \n",
    "        仅输出搜索词，每行一个，不要其他解释。\n",
    "        \"\"\"\n",
    "    query_prompt: PromptTemplate = PromptTemplate(\n",
    "        input_variables=[\"question\"],\n",
    "        template=query_reformulation_template\n",
    "    )\n",
    "\n",
    "    def reformulate_query(self, user_question):\n",
    "        \"\"\"将用户问题转换为搜索关键词\"\"\"\n",
    "        # 使用LLM生成搜索词\n",
    "        search_queries = self.llm(self.query_prompt.format(question=user_question))\n",
    "        # 分割成列表\n",
    "        return [q.strip() for q in search_queries.split('\\n') if q.strip()]\n",
    "\n",
    "    def search(self, user_question):\n",
    "        \"\"\"执行搜索流程\"\"\"\n",
    "        # 1. 重构查询\n",
    "        search_queries = self.reformulate_query(user_question)\n",
    "        \n",
    "        # 2. 执行多个搜索并合并结果\n",
    "        all_results = []\n",
    "        for query in search_queries:\n",
    "            results = self.search_client.search(query, count=5)\n",
    "            all_results.extend(results)\n",
    "            \n",
    "        # 3. 结果去重和排序\n",
    "        unique_results = self._deduplicate_results(all_results)\n",
    "        \n",
    "        return unique_results\n",
    "\n",
    "    def _deduplicate_results(self, results):\n",
    "        \"\"\"去除重复的搜索结果\"\"\"\n",
    "        seen_urls = set()\n",
    "        unique_results = []\n",
    "        \n",
    "        for result in results:\n",
    "            if result['url'] not in seen_urls:\n",
    "                seen_urls.add(result['url'])\n",
    "                unique_results.append(result)\n",
    "                \n",
    "        return unique_results"
   ]
  },
  {
   "cell_type": "code",
   "execution_count": 13,
   "metadata": {},
   "outputs": [
    {
     "name": "stderr",
     "output_type": "stream",
     "text": [
      "/tmp/ipykernel_195801/2179686752.py:30: LangChainDeprecationWarning: The method `BaseLLM.__call__` was deprecated in langchain-core 0.1.7 and will be removed in 1.0. Use :meth:`~invoke` instead.\n",
      "  search_queries = self.llm(self.query_prompt.format(question=user_question))\n"
     ]
    },
    {
     "ename": "TypeError",
     "evalue": "BingSearchAPI.search() got an unexpected keyword argument 'count'",
     "output_type": "error",
     "traceback": [
      "\u001b[0;31m---------------------------------------------------------------------------\u001b[0m",
      "\u001b[0;31mTypeError\u001b[0m                                 Traceback (most recent call last)",
      "Cell \u001b[0;32mIn[13], line 10\u001b[0m\n\u001b[1;32m      3\u001b[0m agent \u001b[38;5;241m=\u001b[39m CustomSearchAgent(\n\u001b[1;32m      4\u001b[0m     llm\u001b[38;5;241m=\u001b[39mOpenAI(api_key\u001b[38;5;241m=\u001b[39mapi_key, base_url\u001b[38;5;241m=\u001b[39mbase_url),\n\u001b[1;32m      5\u001b[0m     search_client\u001b[38;5;241m=\u001b[39mBingSearchAPI(k\u001b[38;5;241m=\u001b[39m\u001b[38;5;241m3\u001b[39m),\n\u001b[1;32m      6\u001b[0m     question\u001b[38;5;241m=\u001b[39mquestion\n\u001b[1;32m      7\u001b[0m )\n\u001b[1;32m      9\u001b[0m \u001b[38;5;66;03m# 测试查询\u001b[39;00m\n\u001b[0;32m---> 10\u001b[0m results \u001b[38;5;241m=\u001b[39m \u001b[43magent\u001b[49m\u001b[38;5;241;43m.\u001b[39;49m\u001b[43msearch\u001b[49m\u001b[43m(\u001b[49m\u001b[43mquestion\u001b[49m\u001b[43m)\u001b[49m\n\u001b[1;32m     12\u001b[0m \u001b[38;5;66;03m# 打印结果\u001b[39;00m\n\u001b[1;32m     13\u001b[0m \u001b[38;5;28;01mfor\u001b[39;00m result \u001b[38;5;129;01min\u001b[39;00m results:\n",
      "Cell \u001b[0;32mIn[12], line 42\u001b[0m, in \u001b[0;36mCustomSearchAgent.search\u001b[0;34m(self, user_question)\u001b[0m\n\u001b[1;32m     40\u001b[0m all_results \u001b[38;5;241m=\u001b[39m []\n\u001b[1;32m     41\u001b[0m \u001b[38;5;28;01mfor\u001b[39;00m query \u001b[38;5;129;01min\u001b[39;00m search_queries:\n\u001b[0;32m---> 42\u001b[0m     results \u001b[38;5;241m=\u001b[39m \u001b[38;5;28;43mself\u001b[39;49m\u001b[38;5;241;43m.\u001b[39;49m\u001b[43msearch_client\u001b[49m\u001b[38;5;241;43m.\u001b[39;49m\u001b[43msearch\u001b[49m\u001b[43m(\u001b[49m\u001b[43mquery\u001b[49m\u001b[43m,\u001b[49m\u001b[43m \u001b[49m\u001b[43mcount\u001b[49m\u001b[38;5;241;43m=\u001b[39;49m\u001b[38;5;241;43m5\u001b[39;49m\u001b[43m)\u001b[49m\n\u001b[1;32m     43\u001b[0m     all_results\u001b[38;5;241m.\u001b[39mextend(results)\n\u001b[1;32m     45\u001b[0m \u001b[38;5;66;03m# 3. 结果去重和排序\u001b[39;00m\n",
      "\u001b[0;31mTypeError\u001b[0m: BingSearchAPI.search() got an unexpected keyword argument 'count'"
     ]
    }
   ],
   "source": [
    "question = \"Python中如何实现多线程编程？\"\n",
    "# 初始化agent\n",
    "agent = CustomSearchAgent(\n",
    "    llm=OpenAI(api_key=api_key, base_url=base_url),\n",
    "    search_client=BingSearchAPI(k=3),\n",
    "    question=question\n",
    ")\n",
    "\n",
    "# 测试查询\n",
    "results = agent.search(question)\n",
    "\n",
    "# 打印结果\n",
    "for result in results:\n",
    "    print(f\"Title: {result['title']}\")\n",
    "    print(f\"URL: {result['url']}\")\n",
    "    print(f\"Snippet: {result['snippet']}\")\n",
    "    print(\"---\")"
   ]
  }
 ],
 "metadata": {
  "kernelspec": {
   "display_name": "llm",
   "language": "python",
   "name": "python3"
  },
  "language_info": {
   "codemirror_mode": {
    "name": "ipython",
    "version": 3
   },
   "file_extension": ".py",
   "mimetype": "text/x-python",
   "name": "python",
   "nbconvert_exporter": "python",
   "pygments_lexer": "ipython3",
   "version": "3.11.9"
  }
 },
 "nbformat": 4,
 "nbformat_minor": 2
}
