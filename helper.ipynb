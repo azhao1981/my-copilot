{
 "cells": [
  {
   "cell_type": "code",
   "execution_count": 1,
   "metadata": {},
   "outputs": [
    {
     "name": "stdout",
     "output_type": "stream",
     "text": [
      "我是 Claude，一个由 Anthropic 开发的 AI 助手。我会努力用专业、诚实和有帮助的方式来回答你的问题。"
     ]
    }
   ],
   "source": [
    "from dotenv import load_dotenv, find_dotenv\n",
    "import os\n",
    "load_dotenv(find_dotenv(),override=True)\n",
    "api_key=os.getenv(\"ONEAPI_API_KEY\", \"\")\n",
    "base_url=os.getenv(\"ONEAPI_BASE_URL\", \"\")\n",
    "\n",
    "\n",
    "from langchain_openai import ChatOpenAI\n",
    "llm = ChatOpenAI(api_key=api_key, base_url=base_url, model=\"claude-3-5-sonnet\")\n",
    "response = llm.stream(\"你是哪个版本的模型\")\n",
    "for chunk in response:\n",
    "    print(chunk.content, end=\"\")"
   ]
  },
  {
   "cell_type": "code",
   "execution_count": 4,
   "metadata": {},
   "outputs": [],
   "source": [
    "import datetime\n",
    "prompt = open('prompt-base.md', 'r', encoding='utf-8').read()\n",
    "prompt = prompt + \"\"\"\n",
    "把下面的代码进行函数和类抽取重构，使之更简洁，易扩展，易维护，代码不需要注释\n",
    "新代码应该支持修改模型名称，是否使用流式\n",
    "```python\n",
    "from dotenv import load_dotenv, find_dotenv\n",
    "import os\n",
    "import datetime\n",
    "\n",
    "load_dotenv(find_dotenv(),override=True)\n",
    "api_key=os.getenv(\"ONEAPI_API_KEY\", \"\")\n",
    "base_url=os.getenv(\"ONEAPI_BASE_URL\", \"\")\n",
    "from langchain_openai import ChatOpenAI\n",
    "llm = ChatOpenAI(api_key=api_key, base_url=base_url, model=\"claude-3-5-sonnet\")\n",
    "\n",
    "prompt = open('prompt-base.md', 'r', encoding='utf-8').read()\n",
    "prompt = prompt + \"1.8 和 1.11 谁大\"\n",
    "response = llm.stream(prompt)\n",
    "timestamp = datetime.datetime.now().strftime(\"%Y%m%d%H%M%S\")\n",
    "file_path = f'sessions/temp-{timestamp}.md'\n",
    "\n",
    "with open(file_path, 'w', encoding='utf-8') as file:\n",
    "    for chunk in response:\n",
    "        print(chunk.content, end=\"\")\n",
    "        file.write(chunk.content)\n",
    "```\n",
    "\"\"\"\n",
    "response = llm.stream(prompt)\n",
    "# 获取当前时间戳\n",
    "timestamp = datetime.datetime.now().strftime(\"%Y%m%d%H%M%S\")\n",
    "# 定义文件路径\n",
    "file_path = f'sessions/temp-{timestamp}.md'\n",
    "\n",
    "# 将内容写入文件\n",
    "with open(file_path, 'w', encoding='utf-8') as file:\n",
    "    for chunk in response:\n",
    "        # print(chunk.content, end=\"\")\n",
    "        file.write(chunk.content)"
   ]
  }
 ],
 "metadata": {
  "kernelspec": {
   "display_name": "llm",
   "language": "python",
   "name": "python3"
  },
  "language_info": {
   "codemirror_mode": {
    "name": "ipython",
    "version": 3
   },
   "file_extension": ".py",
   "mimetype": "text/x-python",
   "name": "python",
   "nbconvert_exporter": "python",
   "pygments_lexer": "ipython3",
   "version": "3.11.9"
  }
 },
 "nbformat": 4,
 "nbformat_minor": 2
}
