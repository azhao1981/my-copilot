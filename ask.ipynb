{
 "cells": [
  {
   "cell_type": "code",
   "execution_count": null,
   "metadata": {},
   "outputs": [],
   "source": [
    "import my_ast\n",
    "prompt = open('./prompts/question.md', 'r', encoding='utf-8').read()\n",
    "my_ast.process_prompt('./prompts/base-claude.md', prompt)"
   ]
  },
  {
   "cell_type": "code",
   "execution_count": null,
   "metadata": {},
   "outputs": [],
   "source": [
    "import my_ast\n",
    "prompt = open('./prompts/question.md', 'r', encoding='utf-8').read()\n",
    "my_ast.process_prompt('./prompts/base-deepseek.md', prompt, 'deepseek-chat')\n"
   ]
  },
  {
   "cell_type": "code",
   "execution_count": null,
   "metadata": {},
   "outputs": [],
   "source": [
    "import my_ast\n",
    "import os\n",
    "from dotenv import load_dotenv, find_dotenv\n",
    "load_dotenv(find_dotenv(), override=True)\n",
    "\n",
    "prompt = open('./prompts/.thinking.ask.md', 'r', encoding='utf-8').read()\n",
    "my_ast.process_prompt('./prompts/base-thinking.md', prompt, model='gemini-2.0-flash-thinking-exp',\n",
    "                     api_key=os.getenv(\"USW_API_KEY\"), base_url=os.getenv(\"USW_BASE_URL\"))\n"
   ]
  },
  {
   "cell_type": "code",
   "execution_count": null,
   "metadata": {},
   "outputs": [],
   "source": [
    "import my_ast\n",
    "import os\n",
    "from dotenv import load_dotenv, find_dotenv\n",
    "load_dotenv(find_dotenv(), override=True)\n",
    "\n",
    "prompt = open('./prompts/.thinking.ask.md', 'r', encoding='utf-8').read()\n",
    "my_ast.process_prompt('./prompts/base-thinking.md', prompt, model='deepseek-reasoner')\n"
   ]
  },
  {
   "cell_type": "code",
   "execution_count": 2,
   "metadata": {},
   "outputs": [
    {
     "name": "stdout",
     "output_type": "stream",
     "text": [
      "MiniMax-Text-01 是由中国人工智能公司 **MiniMax** 开发的一款大型语言模型（LLM）。MiniMax 是一家专注于人工智能技术研发的创新公司，由阿里巴巴和腾讯共同投资支持。该模型是 MiniMax-01 系列的一部分，旨在突破传统 Transformer 架构的限制，专注于长上下文处理和多任务能力。\n",
      "\n",
      "### MiniMax-Text-01 的优点\n",
      "1. **超长上下文处理能力**  \n",
      "   MiniMax-Text-01 能够处理长达 **400 万 token** 的上下文窗口，远超传统模型的 32K 到 256K token 限制。这使得它在处理长文本任务（如文档摘要、学术论文分析、长篇小说生成等）时具有显著优势。\n",
      "\n",
      "2. **高效的线性注意力机制**  \n",
      "   该模型采用了 **闪电注意力（Lightning Attention）**，这是一种线性注意力机制的优化实现，将传统 Transformer 的二次计算复杂度降低到线性复杂度，显著提升了长序列处理的效率。\n",
      "\n",
      "3. **混合架构设计**  \n",
      "   MiniMax-Text-01 结合了 **线性注意力** 和 **Softmax 注意力** 的混合架构，每 8 层中有 7 层使用线性注意力，1 层使用 Softmax 注意力。这种设计在保持高效计算的同时，提升了模型在检索和推理任务中的表现。\n",
      "\n",
      "4. **混合专家（MoE）架构**  \n",
      "   模型集成了 **MoE 架构**，包含 32 个专家和 4560 亿总参数，每次推理激活 459 亿参数。这种设计通过动态激活专家网络，显著提高了计算效率，同时减少了不必要的计算开销。\n",
      "\n",
      "5. **卓越的性能表现**  \n",
      "   在多个基准测试中，MiniMax-Text-01 的表现与 GPT-4o、Claude-3.5-Sonnet 等顶级模型相当，甚至在长上下文任务（如 LongBench-V2 和 Ruler 测试）中表现更优。\n",
      "\n",
      "6. **开源与低成本 API**  \n",
      "   MiniMax-Text-01 是开源的，开发者可以通过 GitHub 获取模型权重和代码。此外，MiniMax 提供了低成本的 API 服务，输入每百万 token 仅需 0.2 美元，输出每百万 token 1.1 美元，性价比极高。\n",
      "\n",
      "7. **多任务能力**  \n",
      "   该模型在知识问答、复杂推理、数学计算、编程任务和视觉-语言理解等任务中表现出色，展现了强大的多任务处理能力。\n",
      "\n",
      "### 总结\n",
      "MiniMax-Text-01 是一款在长上下文处理、计算效率和性能表现上具有显著优势的大型语言模型。它的创新架构和高效设计使其在学术研究、内容创作、编程辅助等领域具有广泛的应用前景。同时，其开源和低成本 API 服务也为开发者和企业提供了便利。\n",
      "\n",
      "搜索结果来自：\n",
      "MiniMax-01 技术报告深度解读与 DeepSeek-V3 对比 ... - https://blog.csdn.net/AIBigModel/article/details/145280609\n",
      "深度解读MiniMax-01：闪电注意力+超长上下文重塑大语言 ... - https://zhuanlan.zhihu.com/p/19232154479\n",
      "MiniMax 01 系列 - MiniMax - https://www.minimaxi.com/news/minimax-01-%E7%B3%BB%E5%88%97\n",
      "MiniMax技术报告解读 - 知乎 - https://zhuanlan.zhihu.com/p/18653363414\n",
      "MiniMax-01：MiniMax推出的开源AI模型，400万超长上下文 ... - https://www.aihub.cn/tools/llm/minimax-01/\n",
      "中国大模型崛起：MiniMax-Text-01引领AI创新潮流 - CSDN博客 - https://blog.csdn.net/llm_way/article/details/145204846\n",
      "MiniMax开源4M超长上下文新模型！性能比肩DeepSeek-v3 ... - https://www.qbitai.com/2025/01/244151.html\n",
      "突破Transformer架构，MiniMax 01首次开源，海外开发者再 ... - https://blog.csdn.net/csdnnews/article/details/145183984\n",
      "MiniMax发布并开源最新模型，处理上下文token能力是GPT ... - https://zhuanlan.zhihu.com/p/18354864994\n",
      "MiniMax-AI/MiniMax-01 - GitHub - https://github.com/MiniMax-AI/MiniMax-01\n",
      "突破Transformer架构，MiniMax 01首次开源，海外开发者再 ... - https://news.qq.com/rain/a/20250116A04BIZ00\n",
      "MiniMax-01 - MiniMax开源的全新系列模型 | AI工具集 - https://ai-bot.cn/minimax-01/\n",
      "MiniMax开源报告精读：规模化验证替代传统Transformer的 ... - https://www.thepaper.cn/newsDetail_forward_29935185\n",
      "激进架构，400万上下文，彻底开源：MiniMax-01有点 ... - https://www.36kr.com/p/3124752847083521\n",
      "MiniMax开源报告精读：规模化验证替代传统Transformer的 ... - https://finance.sina.cn/2025-01-15/detail-ineezstc7285549.d.html\n",
      "中国又一独角兽开源大语言模型——MiniMax-Text-01 ... - https://blog.csdn.net/weixin_41446370/article/details/145157743\n",
      "资讯丨实测MiniMax全新模型MiniMax-Text-01，数学 ... - https://news.302.ai/?p=6459\n",
      "MiniMax-Text-01解析，国产大模型弯道超车 - 知乎专栏 - https://zhuanlan.zhihu.com/p/18696663329\n",
      "MiniMax-01 系列：使用闪电注意力扩展基础模型 - 知乎专栏 - https://zhuanlan.zhihu.com/p/18398241056\n",
      "MiniMax新一代大模型三个关键词：开源、长文本输入、高性价比 - https://www.cnfin.com/gs-lb/detail/20250115/4174600_1.html\n",
      "探索 MiniMax-01：长上下文处理的未来 New - 借一步网 - https://jieyibu.net/a/8476\n",
      "MiniMax-01 系列模型 | AI工具箱 - https://www.yumiok.com/aitools/sites/2925.html\n",
      "MiniMax 最近开源的 MiniMax-01 系列，有哪些值得关注的点？ - https://www.msn.com/zh-cn/%E6%8A%80%E6%9C%AF/%E4%BA%BA%E5%B7%A5%E6%99%BA%E8%83%BD/minimax-%E6%9C%80%E8%BF%91%E5%BC%80%E6%BA%90%E7%9A%84-minimax-01-%E7%B3%BB%E5%88%97-%E6%9C%89%E5%93%AA%E4%BA%9B%E5%80%BC%E5%BE%97%E5%85%B3%E6%B3%A8%E7%9A%84%E7%82%B9/ar-AA1xoW39\n",
      "MiniMax创始人闫俊杰：创业没有天选之子 - 腾讯网 - https://news.qq.com/rain/a/20250117A04P6600\n",
      "MiniMax-01技术报告解读(1) ：MiniMax-Text-01部分 - 知乎专栏 - https://zhuanlan.zhihu.com/p/18366013976\n",
      "Minimax-01开源，400万上下文，偷家Deepseek？ 你的海螺 ... - https://xueqiu.com/2766276381/320565859\n",
      "MiniMax-01 —— MiniMax开源的全新系列模型 | AI智库导航 ... - https://aiguide.cc/14028/\n",
      "MiniMax-Text-01：突破4M上下文长度的AI革新 | DeepSeek ... - https://www.deepseekv3.com/cn/blog/MiniMax-Text-01-Beating-DeepSeek-V3\n",
      "MiniMax 发布 4560 亿参数大模型 MiniMax-01，突破长文本 ... - https://www.aitop100.cn/infomation/details/20142.html\n",
      "MiniMax-01首页、文档和下载 - LLM（大语言模型 ... - https://www.oschina.net/p/minimax-01\n"
     ]
    }
   ],
   "source": [
    "import my_ast\n",
    "import os\n",
    "from dotenv import load_dotenv, find_dotenv\n",
    "load_dotenv(find_dotenv(), override=True)\n",
    "\n",
    "prompt = open('./prompts/.ask.md', 'r', encoding='utf-8').read()\n",
    "my_ast.process_prompt('./prompts/base-search.md', prompt, model='deepseek-search',stream=False,\n",
    "                      api_key=os.getenv(\"CN_CHATFIRE_API_KEY\"), base_url=os.getenv(\"CN_CHATFIRE_BASE_URL\"), \n",
    "                      show=False)\n"
   ]
  }
 ],
 "metadata": {
  "kernelspec": {
   "display_name": "llm",
   "language": "python",
   "name": "python3"
  },
  "language_info": {
   "codemirror_mode": {
    "name": "ipython",
    "version": 3
   },
   "file_extension": ".py",
   "mimetype": "text/x-python",
   "name": "python",
   "nbconvert_exporter": "python",
   "pygments_lexer": "ipython3",
   "version": "3.11.9"
  }
 },
 "nbformat": 4,
 "nbformat_minor": 2
}
