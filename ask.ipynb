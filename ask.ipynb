{
 "cells": [
  {
   "cell_type": "code",
   "execution_count": null,
   "metadata": {},
   "outputs": [],
   "source": [
    "import my_ast\n",
    "prompt = open('./prompts/question.md', 'r', encoding='utf-8').read()\n",
    "my_ast.process_prompt('./prompts/base-claude.md', prompt)"
   ]
  },
  {
   "cell_type": "code",
   "execution_count": null,
   "metadata": {},
   "outputs": [],
   "source": [
    "import my_ast\n",
    "prompt = open('./prompts/question.md', 'r', encoding='utf-8').read()\n",
    "my_ast.process_prompt('./prompts/base-deepseek.md', prompt, 'deepseek-chat')\n"
   ]
  },
  {
   "cell_type": "code",
   "execution_count": null,
   "metadata": {},
   "outputs": [],
   "source": [
    "import my_ast\n",
    "import os\n",
    "from dotenv import load_dotenv, find_dotenv\n",
    "load_dotenv(find_dotenv(), override=True)\n",
    "\n",
    "prompt = open('./prompts/.thinking.ask.md', 'r', encoding='utf-8').read()\n",
    "my_ast.process_prompt('./prompts/base-thinking.md', prompt, model='gemini-2.0-flash-thinking-exp',\n",
    "                     api_key=os.getenv(\"USW_API_KEY\"), base_url=os.getenv(\"USW_BASE_URL\"))\n"
   ]
  }
 ],
 "metadata": {
  "kernelspec": {
   "display_name": "llm",
   "language": "python",
   "name": "python3"
  },
  "language_info": {
   "codemirror_mode": {
    "name": "ipython",
    "version": 3
   },
   "file_extension": ".py",
   "mimetype": "text/x-python",
   "name": "python",
   "nbconvert_exporter": "python",
   "pygments_lexer": "ipython3",
   "version": "3.11.9"
  }
 },
 "nbformat": 4,
 "nbformat_minor": 2
}
